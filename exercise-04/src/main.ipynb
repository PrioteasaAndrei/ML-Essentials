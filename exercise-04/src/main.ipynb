{
 "cells": [
  {
   "cell_type": "code",
   "execution_count": 159,
   "metadata": {},
   "outputs": [],
   "source": [
    "import numpy as np\n",
    "import matplotlib.pyplot as plt\n",
    "import sklearn as sk\n",
    "import scipy"
   ]
  },
  {
   "cell_type": "code",
   "execution_count": 160,
   "metadata": {},
   "outputs": [
    {
     "data": {
      "text/plain": [
       "(45, 100)"
      ]
     },
     "execution_count": 160,
     "metadata": {},
     "output_type": "execute_result"
    }
   ],
   "source": [
    "## load .npy data\n",
    "X = np.load('../data/X_example.npy',allow_pickle=True)\n",
    "X.shape"
   ]
  },
  {
   "cell_type": "code",
   "execution_count": 161,
   "metadata": {},
   "outputs": [
    {
     "data": {
      "text/plain": [
       "array([[0.22489321, 0.        , 0.        , ..., 0.        , 0.        ,\n",
       "        0.        ],\n",
       "       [0.7751068 , 0.38622263, 0.        , ..., 0.        , 0.        ,\n",
       "        0.        ],\n",
       "       [0.        , 0.61377734, 0.54755205, ..., 0.        , 0.        ,\n",
       "        0.        ],\n",
       "       ...,\n",
       "       [0.        , 0.        , 0.        , ..., 0.        , 0.        ,\n",
       "        0.        ],\n",
       "       [0.        , 0.        , 0.        , ..., 0.        , 0.        ,\n",
       "        0.        ],\n",
       "       [0.        , 0.        , 0.        , ..., 0.        , 0.        ,\n",
       "        0.        ]], dtype=float32)"
      ]
     },
     "execution_count": 161,
     "metadata": {},
     "output_type": "execute_result"
    }
   ],
   "source": [
    "X"
   ]
  },
  {
   "cell_type": "code",
   "execution_count": 172,
   "metadata": {},
   "outputs": [],
   "source": [
    "def construct_X(M, alphas, Np=None):\n",
    "    '''\n",
    "    Np - # sensors\n",
    "    N - # Np * No = len(alphas) * Np\n",
    "    M - tomogram size\n",
    "    D - M * M\n",
    "    '''\n",
    "    if Np is None:\n",
    "        Np = int(np.ceil(np.sqrt(2) * M))\n",
    "    \n",
    "    D = M * M\n",
    "    N = len(alphas) * Np\n",
    "    \n",
    "    C = np.mgrid[0:M, 0:M]\n",
    "    print(type(C))\n",
    "    C = np.array([C[1],C[0]])\n",
    "    C = C.reshape(2, -1)\n",
    "    print(\"C shape is: \", C[0])\n",
    "    \n",
    "    i_indices = []\n",
    "    j_indices = []\n",
    "    weights = []\n",
    "    \n",
    "    for idx, alpha in enumerate(alphas):\n",
    "        rad = np.deg2rad(alpha)\n",
    "        n = np.array([np.cos(rad), np.sin(rad)])\n",
    "        \n",
    "        p = n.T @ C\n",
    "        \n",
    "        p += Np / 2  # shift to center sensor array\n",
    "        # print(\"Shape of p is: \", p.shape) ## proiectia tuturor coordonatelor tomografului de MxM flattened pe normala data de alpha curent\n",
    "        \n",
    "        # print(\"P is \", p)\n",
    "\n",
    "        ip_floor = np.floor(p).astype(int)\n",
    "        ip_ceil = np.ceil(p).astype(int)\n",
    "        \n",
    "        valid_indices = (ip_floor >= 0) & (ip_floor < Np)\n",
    "        valid_indices &= (ip_ceil >= 0) & (ip_ceil < Np)\n",
    "\n",
    "        ip_floor = ip_floor[valid_indices]\n",
    "        ip_ceil = ip_ceil[valid_indices]\n",
    "\n",
    "        # print(\"-----\")\n",
    "        # print(ip_floor[0])\n",
    "        # print(ip_ceil[0])\n",
    "\n",
    "        pixel_indices = np.arange(D)[valid_indices]\n",
    "        \n",
    "        w_floor = 1 - (p[valid_indices] - ip_floor)\n",
    "        w_ceil = 1 - w_floor\n",
    "\n",
    "        print(\"W floor is: \", w_floor)\n",
    "        \n",
    "        i_indices.extend((ip_floor + idx * Np).tolist())\n",
    "        j_indices.extend(pixel_indices.tolist())\n",
    "        weights.extend(w_floor.tolist())\n",
    "        \n",
    "        i_indices.extend((ip_ceil + idx * Np).tolist())\n",
    "        j_indices.extend(pixel_indices.tolist())\n",
    "        weights.extend(w_ceil.tolist())\n",
    "\n",
    "    # X = scipy.sparse.coo_matrix((weights[::-1], (i_indices[::-1], j_indices[::-1])), shape=(N, D), dtype=np.float32)\n",
    "    X = scipy.sparse.coo_matrix((weights, (i_indices, j_indices)), shape=(N, D), dtype=np.float32)\n",
    "    \n",
    "    return X"
   ]
  },
  {
   "cell_type": "code",
   "execution_count": 173,
   "metadata": {},
   "outputs": [
    {
     "name": "stdout",
     "output_type": "stream",
     "text": [
      "<class 'numpy.ndarray'>\n",
      "C shape is:  [0 1 2 3 4 5 6 7 8 9 0 1 2 3 4 5 6 7 8 9 0 1 2 3 4 5 6 7 8 9 0 1 2 3 4 5 6\n",
      " 7 8 9 0 1 2 3 4 5 6 7 8 9 0 1 2 3 4 5 6 7 8 9 0 1 2 3 4 5 6 7 8 9 0 1 2 3\n",
      " 4 5 6 7 8 9 0 1 2 3 4 5 6 7 8 9 0 1 2 3 4 5 6 7 8 9]\n",
      "W floor is:  [0.5        0.66132943 0.82265886 0.9839883  0.14531773 0.30664716\n",
      " 0.46797659 0.62930602 0.04463904 0.20596847 0.3672979  0.52862733\n",
      " 0.68995676 0.8512862  0.01261563 0.17394506 0.33527449 0.58927807\n",
      " 0.7506075  0.91193693 0.07326637 0.2345958  0.39592523 0.55725466\n",
      " 0.71858409 0.87991353 0.04124296 0.13391711 0.29524654 0.45657597\n",
      " 0.6179054  0.77923483 0.94056427 0.1018937  0.26322313 0.42455256\n",
      " 0.58588199 0.67855614 0.83988557 0.001215   0.16254444 0.32387387\n",
      " 0.4852033  0.64653273 0.80786216 0.9691916  0.13052103 0.22319518\n",
      " 0.38452461 0.54585404 0.70718347 0.8685129  0.02984234 0.19117177\n",
      " 0.3525012  0.51383063 0.67516006 0.76783421 0.92916364 0.09049307\n",
      " 0.25182251 0.41315194 0.57448137 0.7358108  0.89714023 0.05846967\n",
      " 0.2197991  0.31247325 0.47380268 0.63513211 0.79646154 0.95779097\n",
      " 0.11912041 0.28044984 0.44177927 0.6031087  0.76443813 0.85711228\n",
      " 0.01844171 0.17977114 0.34110058 0.50243001 0.66375944 0.82508887\n",
      " 0.9864183  0.14774774 0.30907717 0.40175132 0.56308075 0.72441018\n",
      " 0.88573961 0.04706904 0.20839848 0.36972791 0.53105734 0.69238677\n",
      " 0.8537162 ]\n",
      "(15, 100)\n"
     ]
    },
    {
     "data": {
      "text/plain": [
       "<matplotlib.image.AxesImage at 0x7f7d84c82c30>"
      ]
     },
     "execution_count": 173,
     "metadata": {},
     "output_type": "execute_result"
    },
    {
     "data": {
      "image/png": "[encoded data removed]",
      "text/plain": [
       "<Figure size 640x480 with 1 Axes>"
      ]
     },
     "metadata": {},
     "output_type": "display_data"
    }
   ],
   "source": [
    "design_matrix = construct_X(10, [-33],15)\n",
    "## convert to dense numpy array\n",
    "design_matrix = design_matrix.toarray()\n",
    "print(design_matrix.shape)\n",
    "plt.imshow(design_matrix, cmap='gray')"
   ]
  },
  {
   "cell_type": "code",
   "execution_count": 164,
   "metadata": {},
   "outputs": [
    {
     "name": "stdout",
     "output_type": "stream",
     "text": [
      "(45, 100)\n"
     ]
    },
    {
     "data": {
      "text/plain": [
       "<matplotlib.image.AxesImage at 0x7f7d84ad2210>"
      ]
     },
     "execution_count": 164,
     "metadata": {},
     "output_type": "execute_result"
    },
    {
     "data": {
      "image/png": "[encoded data removed]",
      "text/plain": [
       "<Figure size 640x480 with 1 Axes>"
      ]
     },
     "metadata": {},
     "output_type": "display_data"
    }
   ],
   "source": [
    "print(X.shape)\n",
    "plt.imshow(X, cmap='gray')"
   ]
  }
 ],
 "metadata": {
  "kernelspec": {
   "display_name": "base",
   "language": "python",
   "name": "python3"
  },
  "language_info": {
   "codemirror_mode": {
    "name": "ipython",
    "version": 3
   },
   "file_extension": ".py",
   "mimetype": "text/x-python",
   "name": "python",
   "nbconvert_exporter": "python",
   "pygments_lexer": "ipython3",
   "version": "3.12.2"
  }
 },
 "nbformat": 4,
 "nbformat_minor": 2
}
