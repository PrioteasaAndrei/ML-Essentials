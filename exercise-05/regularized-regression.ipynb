{
 "cells": [
  {
   "cell_type": "code",
   "execution_count": 102,
   "metadata": {},
   "outputs": [],
   "source": [
    "import numpy as np\n",
    "from sklearn.datasets import load_digits"
   ]
  },
  {
   "cell_type": "code",
   "execution_count": 103,
   "metadata": {},
   "outputs": [
    {
     "name": "stdout",
     "output_type": "stream",
     "text": [
      "dict_keys(['data', 'target', 'frame', 'feature_names', 'target_names', 'images', 'DESCR'])\n"
     ]
    }
   ],
   "source": [
    "## import digits dataset from sklearn\n",
    "digits = load_digits()\n",
    "print (digits.keys())\n",
    "data = digits[\"data\"]\n",
    "images = digits[\"images\"]\n",
    "target = digits[\"target\"]\n",
    "target_names = digits[\"target_names\"]\n",
    "\n",
    "threes = np.array([images[i] for i in range (len(images)) if target[i] == 3])\n",
    "nines = np.array([images[i] for i in range (len(images)) if target[i] == 9])\n",
    "\n",
    "filter_indices = np.where((digits.target == 3) | (digits.target == 9))[0]\n",
    "filtered_data = digits.data[filter_indices]\n",
    "filtered_target = digits.target[filter_indices]\n"
   ]
  },
  {
   "cell_type": "code",
   "execution_count": 104,
   "metadata": {},
   "outputs": [],
   "source": [
    "## TODO: import plotting functions from exercise 1\n",
    "## TODO: import results with exercise 1\n",
    "\n",
    "def transform_labels(y):\n",
    "    y[y == 3] = -1\n",
    "    y[y == 9] = 1\n",
    "    return y\n"
   ]
  },
  {
   "cell_type": "code",
   "execution_count": 107,
   "metadata": {},
   "outputs": [
    {
     "name": "stdout",
     "output_type": "stream",
     "text": [
      "(363, 64)\n"
     ]
    }
   ],
   "source": [
    "print(filtered_data.shape)"
   ]
  },
  {
   "cell_type": "code",
   "execution_count": 105,
   "metadata": {},
   "outputs": [],
   "source": [
    "def omp_regression(X,y, T):\n",
    "    \"\"\"\n",
    "    Orthogonal Matching Pursuit (OMP) for regression\n",
    "    X: design matrix\n",
    "    y: target values\n",
    "    T: sparsity level\n",
    "    \"\"\"\n",
    "    n, p = X.shape\n",
    "    beta_hats = []\n",
    "    residual = y\n",
    "\n",
    "    curr_X = X\n",
    "    A = []\n",
    "    B = [j for j in range(p)]\n",
    "\n",
    "    for t in range(T):\n",
    "        # print(\"Iteration \", t)p\n",
    "        # Compute the correlation between the residual and each column of X\n",
    "        corr = np.dot(curr_X.T, residual)\n",
    "        # Find the index of the column with the largest correlation\n",
    "        j = np.argmax(np.abs(corr))\n",
    "        # Update the estimate of the coefficients\n",
    "        # print(A,B,j)\n",
    "        A += [B[j]]\n",
    "        B.pop(j)\n",
    "\n",
    "        # curr_X = X[:, B] ## TODO: select the columns of X corresponding to the indices in A\n",
    "        ## form current X by setting to 0 the columns in A\n",
    "        curr_X[:, A] = 0\n",
    "        # print(\"Current X shape: \", curr_X.shape)\n",
    "        beta_hat_A = np.linalg.lstsq(curr_X, y, rcond=None)[0] ## TODO: compute the least squares solution of the current X and y by hand\n",
    "        # print(\"Beta shape: \", beta_hat_A.shape)\n",
    "        # Update the residual\n",
    "        residual = y - np.dot(curr_X, beta_hat_A)\n",
    "\n",
    "        beta_hats.append(beta_hat_A)\n",
    "\n",
    "    ## stack beta hats\n",
    "    # print(beta_hats)\n",
    "    beta_hats = np.array(beta_hats).T\n",
    "\n",
    "    return beta_hats"
   ]
  },
  {
   "cell_type": "code",
   "execution_count": 106,
   "metadata": {},
   "outputs": [
    {
     "name": "stdout",
     "output_type": "stream",
     "text": [
      "(64, 10)\n",
      "(64,)\n"
     ]
    }
   ],
   "source": [
    "beta_hats = omp_regression(filtered_data, transform_labels(filtered_target), 10)\n",
    "print(beta_hats.shape)\n",
    "\n",
    "beta = beta_hats[:,-1]\n",
    "print(beta.shape)"
   ]
  },
  {
   "cell_type": "code",
   "execution_count": 108,
   "metadata": {},
   "outputs": [
    {
     "data": {
      "text/plain": [
       "array([-1.25573317e-15,  3.28447516e-03,  2.18846689e-02,  5.51121648e-15,\n",
       "       -1.91680289e-02, -2.33589952e-02, -3.07423411e-02, -8.46461456e-03,\n",
       "        3.92807888e-01,  7.10940885e-03,  8.15696938e-04, -4.05673683e-03,\n",
       "       -2.01618236e-15, -1.66674906e-02,  1.25097426e-02,  1.47466054e-02,\n",
       "       -4.25360160e-01, -2.83799411e-02,  4.82857591e-02,  2.57962650e-02,\n",
       "       -4.67364770e-03,  9.38376703e-02,  1.04395659e-14, -3.95689132e-02,\n",
       "       -2.68535194e-15,  9.03633839e-02, -7.63278329e-16,  3.98135445e-02,\n",
       "       -3.97524703e-02, -8.60422844e-16,  1.31838984e-15, -5.31519273e-15,\n",
       "       -3.45556916e-15,  2.18575158e-15,  2.76449329e-02, -1.49469885e-02,\n",
       "       -9.99200722e-16,  2.20791476e-02,  4.33887945e-02,  2.70616862e-16,\n",
       "       -2.77555756e-16,  1.54442834e-02, -3.06937039e-02, -2.16224684e-03,\n",
       "       -3.23326790e-02, -4.26724791e-02, -5.41631821e-02, -1.04812416e-01,\n",
       "        0.00000000e+00, -2.37986262e-03,  5.73084304e-03, -4.76619068e-03,\n",
       "       -6.90211686e-03, -2.26381080e-03, -6.80753554e-03, -2.95408172e-03,\n",
       "        0.00000000e+00,  6.80428300e-03, -1.98265609e-02,  0.00000000e+00,\n",
       "       -1.06059571e-02, -1.10819000e-02,  2.82669572e-02, -3.69487354e-03])"
      ]
     },
     "execution_count": 108,
     "metadata": {},
     "output_type": "execute_result"
    }
   ],
   "source": [
    "beta"
   ]
  }
 ],
 "metadata": {
  "kernelspec": {
   "display_name": "base",
   "language": "python",
   "name": "python3"
  },
  "language_info": {
   "codemirror_mode": {
    "name": "ipython",
    "version": 3
   },
   "file_extension": ".py",
   "mimetype": "text/x-python",
   "name": "python",
   "nbconvert_exporter": "python",
   "pygments_lexer": "ipython3",
   "version": "3.12.2"
  }
 },
 "nbformat": 4,
 "nbformat_minor": 2
}
