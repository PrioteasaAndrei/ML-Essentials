{
 "cells": [
  {
   "cell_type": "code",
   "execution_count": 2,
   "metadata": {},
   "outputs": [],
   "source": [
    "import numpy as np\n",
    "from sklearn.datasets import load_digits"
   ]
  },
  {
   "cell_type": "code",
   "execution_count": 3,
   "metadata": {},
   "outputs": [
    {
     "name": "stdout",
     "output_type": "stream",
     "text": [
      "dict_keys(['data', 'target', 'frame', 'feature_names', 'target_names', 'images', 'DESCR'])\n"
     ]
    }
   ],
   "source": [
    "## import digits dataset from sklearn\n",
    "digits = load_digits()\n",
    "print (digits.keys())\n",
    "data = digits[\"data\"]\n",
    "images = digits[\"images\"]\n",
    "target = digits[\"target\"]\n",
    "target_names = digits[\"target_names\"]\n",
    "\n",
    "threes = np.array([images[i] for i in range (len(images)) if target[i] == 3])\n",
    "nines = np.array([images[i] for i in range (len(images)) if target[i] == 9])\n",
    "\n",
    "filter_indices = np.where((digits.target == 3) | (digits.target == 9))[0]\n",
    "filtered_data = digits.data[filter_indices]\n",
    "filtered_target = digits.target[filter_indices]\n"
   ]
  },
  {
   "cell_type": "code",
   "execution_count": null,
   "metadata": {},
   "outputs": [],
   "source": [
    "## TODO: import plotting functions from exercise 1\n",
    "## TODO: import results with exercise 1\n",
    "\n",
    "def transform_labels(y):\n",
    "    y[y == 3] = -1\n",
    "    y[y == 9] = 1\n",
    "    return y\n"
   ]
  },
  {
   "cell_type": "code",
   "execution_count": 4,
   "metadata": {},
   "outputs": [],
   "source": [
    "def omp_regression(X,y, T):\n",
    "    \"\"\"\n",
    "    Orthogonal Matching Pursuit (OMP) for regression\n",
    "    X: design matrix\n",
    "    y: target values\n",
    "    T: sparsity level\n",
    "    TODO: not checked\n",
    "    \"\"\"\n",
    "    n, p = X.shape\n",
    "    beta_hat = np.zeros(p)\n",
    "    residual = y\n",
    "    for t in range(T):\n",
    "        # Compute the correlation between the residual and each column of X\n",
    "        corr = np.dot(X.T, residual)\n",
    "        # Find the index of the column with the largest correlation\n",
    "        j = np.argmax(np.abs(corr))\n",
    "        # Update the estimate of the coefficients\n",
    "        beta_hat[j] += corr[j]\n",
    "        # Update the residual\n",
    "        residual = y - np.dot(X, beta_hat)\n",
    "    return beta_hat"
   ]
  }
 ],
 "metadata": {
  "kernelspec": {
   "display_name": "base",
   "language": "python",
   "name": "python3"
  },
  "language_info": {
   "codemirror_mode": {
    "name": "ipython",
    "version": 3
   },
   "file_extension": ".py",
   "mimetype": "text/x-python",
   "name": "python",
   "nbconvert_exporter": "python",
   "pygments_lexer": "ipython3",
   "version": "3.12.2"
  }
 },
 "nbformat": 4,
 "nbformat_minor": 2
}
