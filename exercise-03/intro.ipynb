{
 "cells": [
  {
   "cell_type": "code",
   "execution_count": 1,
   "metadata": {},
   "outputs": [
    {
     "name": "stdout",
     "output_type": "stream",
     "text": [
      "cuda\n"
     ]
    }
   ],
   "source": [
    "\n",
    "import numpy as np\n",
    "import matplotlib.pyplot as plt\n",
    "\n",
    "import torch\n",
    "import torch.optim as optim\n",
    "from torch.utils.data import DataLoader\n",
    "\n",
    "import torchvision.datasets as datasets\n",
    "import torchvision.transforms as transforms\n",
    "\n",
    "from torch.nn.functional import conv2d, max_pool2d, cross_entropy\n",
    "\n",
    "plt.rc(\"figure\", dpi=100)\n",
    "\n",
    "device = torch.device(\"cuda\" if torch.cuda.is_available() else \"cpu\")\n",
    "print(device)"
   ]
  },
  {
   "cell_type": "code",
   "execution_count": 2,
   "metadata": {},
   "outputs": [],
   "source": [
    "\n",
    "batch_size = 100\n",
    "\n",
    "# transform images into normalized tensors\n",
    "transform = transforms.Compose([\n",
    "    transforms.ToTensor(),\n",
    "    transforms.Normalize(mean=(0.5,), std=(0.5,))\n",
    "])\n",
    "\n",
    "train_dataset = datasets.MNIST(\n",
    "    \"./\",\n",
    "    download=True,\n",
    "    train=True,\n",
    "    transform=transform,\n",
    ")\n",
    "\n",
    "test_dataset = datasets.MNIST(\n",
    "    \"./\",\n",
    "    download=True,\n",
    "    train=False,\n",
    "    transform=transform,\n",
    ")\n",
    "\n",
    "train_dataloader = DataLoader(\n",
    "    dataset=train_dataset,\n",
    "    batch_size=batch_size,\n",
    "    shuffle=True,\n",
    "    num_workers=1,\n",
    "    pin_memory=True,\n",
    ")\n",
    "\n",
    "test_dataloader = DataLoader(\n",
    "    dataset=test_dataset,\n",
    "    batch_size=batch_size,\n",
    "    shuffle=False,\n",
    "    num_workers=1,\n",
    "    pin_memory=True,\n",
    ")"
   ]
  },
  {
   "cell_type": "code",
   "execution_count": 3,
   "metadata": {},
   "outputs": [],
   "source": [
    "def init_weights(shape):\n",
    "    # Kaiming He initialization (a good initialization is important)\n",
    "    # https://arxiv.org/abs/1502.01852\n",
    "    std = np.sqrt(2. / shape[0])\n",
    "    w = torch.randn(size=shape).to(device) * std\n",
    "    w.requires_grad = True\n",
    "    return w\n",
    "\n",
    "\n",
    "def rectify(x):\n",
    "    # Rectified Linear Unit (ReLU)\n",
    "    return torch.max(torch.zeros_like(x), x)\n"
   ]
  },
  {
   "cell_type": "code",
   "execution_count": 4,
   "metadata": {},
   "outputs": [],
   "source": [
    "class RMSprop(optim.Optimizer):\n",
    "    \"\"\"\n",
    "    This is a reduced version of the PyTorch internal RMSprop optimizer\n",
    "    It serves here as an example\n",
    "    \"\"\"\n",
    "    ## HACK Andrei: lr was 1e-3 before\n",
    "    ## HACK Andrei: batch size was 100\n",
    "    def __init__(self, params, lr=1e-3, alpha=0.5, eps=1e-8):\n",
    "        defaults = dict(lr=lr, alpha=alpha, eps=eps)\n",
    "        super(RMSprop, self).__init__(params, defaults)\n",
    "\n",
    "    def step(self):\n",
    "        for group in self.param_groups:\n",
    "            for p in group['params']:\n",
    "                grad = p.grad.data.to(device)\n",
    "                state = self.state[p]\n",
    "\n",
    "                # state initialization\n",
    "                if len(state) == 0:\n",
    "                    state['square_avg'] = torch.zeros_like(p.data)\n",
    "\n",
    "                square_avg = state['square_avg']\n",
    "                alpha = group['alpha']\n",
    "\n",
    "                # update running averages\n",
    "                square_avg.mul_(alpha).addcmul_(grad, grad, value=1 - alpha)\n",
    "                avg = square_avg.sqrt().add_(group['eps'])\n",
    "\n",
    "                # gradient update\n",
    "                p.data.addcdiv_(grad, avg, value=-group['lr'])\n",
    "\n"
   ]
  },
  {
   "cell_type": "code",
   "execution_count": 5,
   "metadata": {},
   "outputs": [],
   "source": [
    "# define the neural network\n",
    "def model(x, w_h, w_h2, w_o):\n",
    "    h = rectify(x @ w_h)\n",
    "    h2 = rectify(h @ w_h2)\n",
    "    pre_softmax = h2 @ w_o\n",
    "    return pre_softmax"
   ]
  },
  {
   "cell_type": "code",
   "execution_count": 6,
   "metadata": {},
   "outputs": [],
   "source": [
    "# initialize weights\n",
    "# input shape is (B, 784)\n",
    "w_h = init_weights((784, 625))\n",
    "# hidden layer with 625 neurons\n",
    "w_h2 = init_weights((625, 625))\n",
    "# hidden layer with 625 neurons\n",
    "w_o = init_weights((625, 10))\n",
    "# output shape is (B, 10)\n",
    "\n",
    "\n",
    "optimizer = RMSprop(params=[w_h, w_h2, w_o])\n",
    "\n",
    "\n",
    "n_epochs = 100\n",
    "\n",
    "train_loss = []\n",
    "test_loss = []"
   ]
  },
  {
   "cell_type": "code",
   "execution_count": 7,
   "metadata": {},
   "outputs": [
    {
     "name": "stdout",
     "output_type": "stream",
     "text": [
      "Epoch: 0\n",
      "Mean Train Loss: 1.06e+04\n",
      "Mean Test Loss:  3.78e+00\n",
      "Epoch: 2\n",
      "Mean Train Loss: 3.77e+02\n",
      "Mean Test Loss:  5.54e+01\n",
      "Epoch: 4\n",
      "Mean Train Loss: 2.46e+02\n",
      "Mean Test Loss:  1.85e+02\n",
      "Epoch: 6\n",
      "Mean Train Loss: 1.60e+02\n",
      "Mean Test Loss:  3.46e+01\n",
      "Epoch: 8\n",
      "Mean Train Loss: 7.06e+01\n",
      "Mean Test Loss:  2.89e+01\n",
      "Epoch: 10\n",
      "Mean Train Loss: 2.62e+01\n",
      "Mean Test Loss:  2.31e+00\n",
      "Epoch: 12\n",
      "Mean Train Loss: 2.30e+00\n",
      "Mean Test Loss:  2.30e+00\n",
      "Epoch: 14\n",
      "Mean Train Loss: 2.30e+00\n",
      "Mean Test Loss:  2.30e+00\n",
      "Epoch: 16\n",
      "Mean Train Loss: 2.30e+00\n",
      "Mean Test Loss:  2.30e+00\n",
      "Epoch: 18\n",
      "Mean Train Loss: 2.30e+00\n",
      "Mean Test Loss:  2.30e+00\n",
      "Epoch: 20\n",
      "Mean Train Loss: 2.30e+00\n",
      "Mean Test Loss:  2.30e+00\n"
     ]
    }
   ],
   "source": [
    "# put this into a training loop over 100 epochs\n",
    "for epoch in range(n_epochs + 1):\n",
    "    train_loss_this_epoch = []\n",
    "    for idx, batch in enumerate(train_dataloader):\n",
    "        x, y = batch\n",
    "\n",
    "        # our model requires flattened input\n",
    "        x = x.reshape(batch_size, 784).to(device)\n",
    "        # feed input through model\n",
    "        noise_py_x = model(x, w_h, w_h2, w_o)\n",
    "\n",
    "        # reset the gradient\n",
    "        optimizer.zero_grad()\n",
    "\n",
    "        # the cross-entropy loss function already contains the softmax\n",
    "        loss = cross_entropy(noise_py_x, y.to(device), reduction=\"mean\")\n",
    "\n",
    "        train_loss_this_epoch.append(float(loss))\n",
    "\n",
    "        # compute the gradient\n",
    "        loss.backward()\n",
    "        # update weights\n",
    "        optimizer.step()\n",
    "\n",
    "    train_loss.append(np.mean(train_loss_this_epoch))\n",
    "\n",
    "    # test periodically\n",
    "    if epoch % 2 == 0:\n",
    "        print(f\"Epoch: {epoch}\")\n",
    "        print(f\"Mean Train Loss: {train_loss[-1]:.2e}\")\n",
    "        test_loss_this_epoch = []\n",
    "\n",
    "        # no need to compute gradients for validation\n",
    "        with torch.no_grad():\n",
    "            for idx, batch in enumerate(test_dataloader):\n",
    "                x, y = batch\n",
    "                x = x.reshape(batch_size, 784).to(device)\n",
    "                noise_py_x = model(x, w_h, w_h2, w_o)\n",
    "\n",
    "                loss = cross_entropy(noise_py_x, y.to(device), reduction=\"mean\")\n",
    "                test_loss_this_epoch.append(float(loss))\n",
    "\n",
    "        test_loss.append(np.mean(test_loss_this_epoch))\n",
    "\n",
    "        print(f\"Mean Test Loss:  {test_loss[-1]:.2e}\")\n",
    "\n"
   ]
  },
  {
   "cell_type": "code",
   "execution_count": 8,
   "metadata": {},
   "outputs": [
    {
     "data": {
      "text/plain": [
       "<matplotlib.legend.Legend at 0x71f03931e360>"
      ]
     },
     "execution_count": 8,
     "metadata": {},
     "output_type": "execute_result"
    },
    {
     "data": {
      "image/png": "[encoded data removed]",
      "text/plain": [
       "<Figure size 640x480 with 1 Axes>"
      ]
     },
     "metadata": {},
     "output_type": "display_data"
    }
   ],
   "source": [
    "plt.plot(np.arange(n_epochs + 1), train_loss, label=\"Train\")\n",
    "plt.plot(np.arange(1, n_epochs + 2, 2), test_loss, label=\"Test\")\n",
    "plt.title(\"Train and Test Loss over Training\")\n",
    "plt.xlabel(\"Epoch\")\n",
    "plt.ylabel(\"Loss\")\n",
    "plt.legend()\n"
   ]
  },
  {
   "cell_type": "code",
   "execution_count": 9,
   "metadata": {},
   "outputs": [],
   "source": [
    "def dropout(X,p_drop=0.5):\n",
    "\n",
    "    if p_drop > 1:\n",
    "        return X\n",
    "\n",
    "    mask = torch.bernoulli(torch.ones_like(X) * (1 - p_drop))\n",
    "    return mask * X / (1 - p_drop)"
   ]
  },
  {
   "cell_type": "code",
   "execution_count": 10,
   "metadata": {},
   "outputs": [],
   "source": [
    "def dropout_model(x, w_h, w_h2, w_o, p_drop_input=0.5,p_drop_hidden=0.5):\n",
    "    x = dropout(x, p_drop_input)\n",
    "    h = rectify(x @ w_h)\n",
    "    h = dropout(h, p_drop_hidden)\n",
    "    h2 = rectify(h @ w_h2)\n",
    "    h2 = dropout(h2, p_drop_hidden)\n",
    "    pre_softmax = h2 @ w_o\n",
    "    return pre_softmax\n",
    "\n",
    "\n",
    "def dropout_layer(X, dropout):\n",
    "    assert 0 <= dropout <= 1\n",
    "    if dropout == 1: return torch.zeros_like(X)\n",
    "    mask = (torch.rand(X.shape) > dropout).float()\n",
    "    return mask * X / (1.0 - dropout)"
   ]
  },
  {
   "cell_type": "code",
   "execution_count": 17,
   "metadata": {},
   "outputs": [],
   "source": [
    "# initialize weights\n",
    "# input shape is (B, 784)\n",
    "w_h_drop = init_weights((784, 625))\n",
    "# hidden layer with 625 neurons\n",
    "w_h2_drop = init_weights((625, 625))\n",
    "# hidden layer with 625 neurons\n",
    "w_o_drop = init_weights((625, 10))\n",
    "# output shape is (B, 10)\n",
    "\n",
    "optimizer = RMSprop(params=[w_h_drop, w_h2_drop, w_o_drop])\n",
    "\n",
    "\n",
    "n_epochs = 100\n",
    "\n",
    "train_loss_drop = []\n",
    "test_loss_drop = []"
   ]
  },
  {
   "cell_type": "code",
   "execution_count": 18,
   "metadata": {},
   "outputs": [
    {
     "name": "stdout",
     "output_type": "stream",
     "text": [
      "Epoch: 0\n",
      "Mean Train Loss: 3.85e+03\n",
      "Mean Test Loss:  2.42e+00\n",
      "Epoch: 2\n",
      "Mean Train Loss: 6.70e+00\n",
      "Mean Test Loss:  2.30e+00\n",
      "Epoch: 4\n",
      "Mean Train Loss: 2.51e+00\n",
      "Mean Test Loss:  2.30e+00\n",
      "Epoch: 6\n",
      "Mean Train Loss: 2.38e+00\n",
      "Mean Test Loss:  2.30e+00\n",
      "Epoch: 8\n",
      "Mean Train Loss: 2.33e+00\n",
      "Mean Test Loss:  2.30e+00\n",
      "Epoch: 10\n",
      "Mean Train Loss: 2.30e+00\n",
      "Mean Test Loss:  2.30e+00\n",
      "Epoch: 12\n",
      "Mean Train Loss: 2.30e+00\n",
      "Mean Test Loss:  2.30e+00\n",
      "Epoch: 14\n",
      "Mean Train Loss: 2.30e+00\n",
      "Mean Test Loss:  2.30e+00\n",
      "Epoch: 16\n",
      "Mean Train Loss: 2.30e+00\n",
      "Mean Test Loss:  2.30e+00\n",
      "Epoch: 18\n",
      "Mean Train Loss: 2.30e+00\n",
      "Mean Test Loss:  2.30e+00\n",
      "Epoch: 20\n",
      "Mean Train Loss: 2.30e+00\n",
      "Mean Test Loss:  2.30e+00\n"
     ]
    }
   ],
   "source": [
    "# put this into a training loop over 100 epochs\n",
    "for epoch in range(n_epochs + 1):\n",
    "    train_loss_this_epoch = []\n",
    "    for idx, batch in enumerate(train_dataloader):\n",
    "        x, y = batch\n",
    "\n",
    "        # our model requires flattened input\n",
    "        x = x.reshape(batch_size, 784).to(device)\n",
    "        # feed input through model\n",
    "        noise_py_x = dropout_model(x, w_h_drop, w_h2_drop, w_o_drop)\n",
    "\n",
    "        # reset the gradient\n",
    "        optimizer.zero_grad()\n",
    "\n",
    "        # the cross-entropy loss function already contains the softmax\n",
    "        loss = cross_entropy(noise_py_x, y.to(device), reduction=\"mean\")\n",
    "\n",
    "        train_loss_this_epoch.append(float(loss))\n",
    "\n",
    "        # compute the gradient\n",
    "        loss.backward()\n",
    "        # update weights\n",
    "        optimizer.step()\n",
    "\n",
    "    train_loss_drop.append(np.mean(train_loss_this_epoch))\n",
    "\n",
    "    # test periodically\n",
    "    if epoch % 2 == 0:\n",
    "        print(f\"Epoch: {epoch}\")\n",
    "        print(f\"Mean Train Loss: {train_loss_drop[-1]:.2e}\")\n",
    "        test_loss_this_epoch = []\n",
    "\n",
    "        # no need to compute gradients for validation\n",
    "        with torch.no_grad():\n",
    "            for idx, batch in enumerate(test_dataloader):\n",
    "                x, y = batch\n",
    "                x = x.reshape(batch_size, 784).to(device)\n",
    "                noise_py_x = dropout_model(x, w_h_drop, w_h2_drop, w_o_drop,0,0)\n",
    "\n",
    "                loss = cross_entropy(noise_py_x, y.to(device), reduction=\"mean\")\n",
    "                test_loss_this_epoch.append(float(loss))\n",
    "\n",
    "        test_loss_drop.append(np.mean(test_loss_this_epoch))\n",
    "\n",
    "        print(f\"Mean Test Loss:  {test_loss_drop[-1]:.2e}\")\n",
    "\n"
   ]
  },
  {
   "cell_type": "code",
   "execution_count": 21,
   "metadata": {},
   "outputs": [
    {
     "data": {
      "text/plain": [
       "<matplotlib.legend.Legend at 0x71f02a29b4d0>"
      ]
     },
     "execution_count": 21,
     "metadata": {},
     "output_type": "execute_result"
    },
    {
     "data": {
      "image/png": "[encoded data removed]",
      "text/plain": [
       "<Figure size 640x480 with 1 Axes>"
      ]
     },
     "metadata": {},
     "output_type": "display_data"
    }
   ],
   "source": [
    "plt.plot(np.arange(n_epochs + 1), train_loss_drop, label=\"Train\")\n",
    "plt.plot(np.arange(1, n_epochs + 2, 2), test_loss_drop, label=\"Test\")\n",
    "plt.title(\"Train and Test Loss over Training\")\n",
    "plt.xlabel(\"Epoch\")\n",
    "plt.ylabel(\"Loss\")\n",
    "plt.legend()\n"
   ]
  },
  {
   "cell_type": "markdown",
   "metadata": {},
   "source": [
    "The dropout layer works by randomly deactivating certain neurons in the linear layers (or if applied to the input, deactivating certain features of the input vector). In this way the training load is more evenly distributed among the network, encourages diversity in the learned parameters and helps reduce redundancy i.e. neurons that do not significantly contribute to the performance of the network (cause of their existance can be attributed to overparametrization; see https://arxiv.org/abs/1503.02531, https://arxiv.org/abs/1803.03635).\n",
    "\n",
    "In our implementation we use all the neurons for the testing to get the best accuracy, so in this sense this is Inverted Dropout not dropout. See: https://stackoverflow.com/questions/54109617/implementing-dropout-from-scratch"
   ]
  },
  {
   "cell_type": "code",
   "execution_count": 23,
   "metadata": {},
   "outputs": [
    {
     "name": "stdout",
     "output_type": "stream",
     "text": [
      "With dropout: [2.4158735275268555, 2.3023641109466553, 2.302590847015381, 2.302590847015381, 2.302590847015381, 2.302590847015381, 2.302590847015381, 2.302590847015381, 2.302590847015381, 2.302590847015381, 2.302590847015381]\n",
      "Without dropout: [3.778651475906372, 55.383975982666016, 185.15802001953125, 34.61897659301758, 28.925928115844727, 2.3054583072662354, 2.302590847015381, 2.302590847015381, 2.302590847015381, 2.302590847015381, 2.302590847015381]\n"
     ]
    }
   ],
   "source": [
    "## test error comparation\n",
    "print(\"With dropout: {}\".format(test_loss_drop))\n",
    "print(\"Without dropout: {}\".format(test_loss))\n",
    "\n",
    "## interpretation: it makes sense that the dropout model needs more epochs to train to reach the same performance, but avoid overfitting."
   ]
  },
  {
   "cell_type": "code",
   "execution_count": 39,
   "metadata": {},
   "outputs": [],
   "source": [
    "def PRelu(X,a):\n",
    "    assert X.shape == a.shape\n",
    "\n",
    "    return torch.where(X > 0, X, a*X)\n",
    "\n",
    "# define the neural network\n",
    "def prelu_model(x, w_h, w_h2, w_o, a1, a2):\n",
    "    h = PRelu(x @ w_h,a1)\n",
    "    h2 = PRelu(h @ w_h2, a2)\n",
    "    pre_softmax = h2 @ w_o\n",
    "    return pre_softmax"
   ]
  },
  {
   "cell_type": "code",
   "execution_count": 40,
   "metadata": {},
   "outputs": [],
   "source": [
    "# initialize weights\n",
    "# input shape is (B, 784)\n",
    "w_h_drop = init_weights((784, 625))\n",
    "a1 = init_weights((batch_size,625))\n",
    "# hidden layer with 625 neurons\n",
    "w_h2_drop = init_weights((625, 625))\n",
    "a2 = init_weights((batch_size,625))\n",
    "# hidden layer with 625 neurons\n",
    "w_o_drop = init_weights((625, 10))\n",
    "# output shape is (B, 10)\n",
    "\n",
    "optimizer = RMSprop(params=[w_h_drop, w_h2_drop, w_o_drop,a1,a2])\n",
    "\n",
    "\n",
    "n_epochs = 20\n",
    "\n",
    "train_loss_prelu = []\n",
    "test_loss_prelu = []"
   ]
  },
  {
   "cell_type": "code",
   "execution_count": 41,
   "metadata": {},
   "outputs": [
    {
     "name": "stdout",
     "output_type": "stream",
     "text": [
      "Epoch: 0\n",
      "Mean Train Loss: 1.51e+04\n",
      "Mean Test Loss:  4.14e+04\n",
      "Epoch: 2\n",
      "Mean Train Loss: 8.42e+03\n",
      "Mean Test Loss:  8.19e+03\n",
      "Epoch: 4\n",
      "Mean Train Loss: 9.37e+03\n",
      "Mean Test Loss:  1.36e+04\n",
      "Epoch: 6\n",
      "Mean Train Loss: 9.00e+03\n",
      "Mean Test Loss:  1.95e+04\n",
      "Epoch: 8\n",
      "Mean Train Loss: 1.01e+04\n",
      "Mean Test Loss:  7.12e+03\n",
      "Epoch: 10\n",
      "Mean Train Loss: 7.28e+03\n",
      "Mean Test Loss:  8.83e+03\n",
      "Epoch: 12\n",
      "Mean Train Loss: 3.61e+03\n",
      "Mean Test Loss:  7.31e+03\n",
      "Epoch: 14\n",
      "Mean Train Loss: 4.18e+03\n",
      "Mean Test Loss:  3.30e+03\n",
      "Epoch: 16\n",
      "Mean Train Loss: 3.14e+03\n",
      "Mean Test Loss:  2.48e+03\n",
      "Epoch: 18\n",
      "Mean Train Loss: 1.30e+04\n",
      "Mean Test Loss:  1.83e+03\n",
      "Epoch: 20\n",
      "Mean Train Loss: 9.90e+03\n",
      "Mean Test Loss:  2.02e+03\n"
     ]
    }
   ],
   "source": [
    "# put this into a training loop over 100 epochs\n",
    "for epoch in range(n_epochs + 1):\n",
    "    train_loss_this_epoch = []\n",
    "    for idx, batch in enumerate(train_dataloader):\n",
    "        x, y = batch\n",
    "\n",
    "        # our model requires flattened input\n",
    "        x = x.reshape(batch_size, 784).to(device)\n",
    "        # feed input through model\n",
    "        noise_py_x = prelu_model(x, w_h_drop, w_h2_drop, w_o_drop,a1,a2)\n",
    "\n",
    "        # reset the gradient\n",
    "        optimizer.zero_grad()\n",
    "\n",
    "        # the cross-entropy loss function already contains the softmax\n",
    "        loss = cross_entropy(noise_py_x, y.to(device), reduction=\"mean\")\n",
    "\n",
    "        train_loss_this_epoch.append(float(loss))\n",
    "\n",
    "        # compute the gradient\n",
    "        loss.backward()\n",
    "        # update weights\n",
    "        optimizer.step()\n",
    "\n",
    "    train_loss_prelu.append(np.mean(train_loss_this_epoch))\n",
    "\n",
    "    # test periodically\n",
    "    if epoch % 2 == 0:\n",
    "        print(f\"Epoch: {epoch}\")\n",
    "        print(f\"Mean Train Loss: {train_loss_prelu[-1]:.2e}\")\n",
    "        test_loss_this_epoch = []\n",
    "\n",
    "        # no need to compute gradients for validation\n",
    "        with torch.no_grad():\n",
    "            for idx, batch in enumerate(test_dataloader):\n",
    "                x, y = batch\n",
    "                x = x.reshape(batch_size, 784).to(device)\n",
    "                noise_py_x = prelu_model(x, w_h_drop, w_h2_drop, w_o_drop,a1,a2)\n",
    "\n",
    "                loss = cross_entropy(noise_py_x, y.to(device), reduction=\"mean\")\n",
    "                test_loss_this_epoch.append(float(loss))\n",
    "\n",
    "        test_loss_prelu.append(np.mean(test_loss_this_epoch))\n",
    "\n",
    "        print(f\"Mean Test Loss:  {test_loss_prelu[-1]:.2e}\")\n",
    "\n"
   ]
  },
  {
   "cell_type": "code",
   "execution_count": 42,
   "metadata": {},
   "outputs": [
    {
     "data": {
      "text/plain": [
       "<matplotlib.legend.Legend at 0x71f0227ebce0>"
      ]
     },
     "execution_count": 42,
     "metadata": {},
     "output_type": "execute_result"
    },
    {
     "data": {
      "image/png": "[encoded data removed]",
      "text/plain": [
       "<Figure size 640x480 with 1 Axes>"
      ]
     },
     "metadata": {},
     "output_type": "display_data"
    }
   ],
   "source": [
    "plt.plot(np.arange(n_epochs + 1), train_loss_prelu, label=\"Train\")\n",
    "plt.plot(np.arange(1, n_epochs + 2, 2), test_loss_prelu, label=\"Test\")\n",
    "plt.title(\"Train and Test Loss over Training\")\n",
    "plt.xlabel(\"Epoch\")\n",
    "plt.ylabel(\"Loss\")\n",
    "plt.legend()\n"
   ]
  }
 ],
 "metadata": {
  "kernelspec": {
   "display_name": "base",
   "language": "python",
   "name": "python3"
  },
  "language_info": {
   "codemirror_mode": {
    "name": "ipython",
    "version": 3
   },
   "file_extension": ".py",
   "mimetype": "text/x-python",
   "name": "python",
   "nbconvert_exporter": "python",
   "pygments_lexer": "ipython3",
   "version": "3.12.2"
  }
 },
 "nbformat": 4,
 "nbformat_minor": 2
}
